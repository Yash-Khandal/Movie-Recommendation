{
 "cells": [
  {
   "cell_type": "code",
   "execution_count": 1,
   "id": "c1051db7",
   "metadata": {},
   "outputs": [],
   "source": [
    "import pandas as pd\n",
    "import numpy as np\n"
   ]
  },
  {
   "cell_type": "code",
   "execution_count": 2,
   "id": "68ddeeb1",
   "metadata": {},
   "outputs": [
    {
     "name": "stdout",
     "output_type": "stream",
     "text": [
      "   movieId                               title  \\\n",
      "0        1                    Toy Story (1995)   \n",
      "1        2                      Jumanji (1995)   \n",
      "2        3             Grumpier Old Men (1995)   \n",
      "3        4            Waiting to Exhale (1995)   \n",
      "4        5  Father of the Bride Part II (1995)   \n",
      "\n",
      "                                        genres  \n",
      "0  Adventure|Animation|Children|Comedy|Fantasy  \n",
      "1                   Adventure|Children|Fantasy  \n",
      "2                               Comedy|Romance  \n",
      "3                         Comedy|Drama|Romance  \n",
      "4                                       Comedy  \n"
     ]
    }
   ],
   "source": [
    "data = pd.read_csv(\"movies.csv\")\n",
    "print(data.head())"
   ]
  },
  {
   "cell_type": "code",
   "execution_count": 3,
   "id": "1a65c82e",
   "metadata": {},
   "outputs": [
    {
     "data": {
      "text/plain": [
       "(9742, 3)"
      ]
     },
     "execution_count": 3,
     "metadata": {},
     "output_type": "execute_result"
    }
   ],
   "source": [
    "data.shape"
   ]
  },
  {
   "cell_type": "code",
   "execution_count": 4,
   "id": "893b1818",
   "metadata": {},
   "outputs": [
    {
     "name": "stdout",
     "output_type": "stream",
     "text": [
      "   userId  movieId  rating  timestamp\n",
      "0       1        1     4.0  964982703\n",
      "1       1        3     4.0  964981247\n",
      "2       1        6     4.0  964982224\n",
      "3       1       47     5.0  964983815\n",
      "4       1       50     5.0  964982931\n"
     ]
    }
   ],
   "source": [
    "data = pd.read_csv(\"ratings.csv\")\n",
    "print(data.head())"
   ]
  },
  {
   "cell_type": "code",
   "execution_count": 5,
   "id": "0f32964b",
   "metadata": {},
   "outputs": [
    {
     "data": {
      "text/plain": [
       "(100836, 4)"
      ]
     },
     "execution_count": 5,
     "metadata": {},
     "output_type": "execute_result"
    }
   ],
   "source": [
    "data.shape"
   ]
  },
  {
   "cell_type": "code",
   "execution_count": 6,
   "id": "ba19010f",
   "metadata": {},
   "outputs": [
    {
     "name": "stdout",
     "output_type": "stream",
     "text": [
      "Unique userId [  1   2   3   4   5   6   7   8   9  10  11  12  13  14  15  16  17  18\n",
      "  19  20  21  22  23  24  25  26  27  28  29  30  31  32  33  34  35  36\n",
      "  37  38  39  40  41  42  43  44  45  46  47  48  49  50  51  52  53  54\n",
      "  55  56  57  58  59  60  61  62  63  64  65  66  67  68  69  70  71  72\n",
      "  73  74  75  76  77  78  79  80  81  82  83  84  85  86  87  88  89  90\n",
      "  91  92  93  94  95  96  97  98  99 100 101 102 103 104 105 106 107 108\n",
      " 109 110 111 112 113 114 115 116 117 118 119 120 121 122 123 124 125 126\n",
      " 127 128 129 130 131 132 133 134 135 136 137 138 139 140 141 142 143 144\n",
      " 145 146 147 148 149 150 151 152 153 154 155 156 157 158 159 160 161 162\n",
      " 163 164 165 166 167 168 169 170 171 172 173 174 175 176 177 178 179 180\n",
      " 181 182 183 184 185 186 187 188 189 190 191 192 193 194 195 196 197 198\n",
      " 199 200 201 202 203 204 205 206 207 208 209 210 211 212 213 214 215 216\n",
      " 217 218 219 220 221 222 223 224 225 226 227 228 229 230 231 232 233 234\n",
      " 235 236 237 238 239 240 241 242 243 244 245 246 247 248 249 250 251 252\n",
      " 253 254 255 256 257 258 259 260 261 262 263 264 265 266 267 268 269 270\n",
      " 271 272 273 274 275 276 277 278 279 280 281 282 283 284 285 286 287 288\n",
      " 289 290 291 292 293 294 295 296 297 298 299 300 301 302 303 304 305 306\n",
      " 307 308 309 310 311 312 313 314 315 316 317 318 319 320 321 322 323 324\n",
      " 325 326 327 328 329 330 331 332 333 334 335 336 337 338 339 340 341 342\n",
      " 343 344 345 346 347 348 349 350 351 352 353 354 355 356 357 358 359 360\n",
      " 361 362 363 364 365 366 367 368 369 370 371 372 373 374 375 376 377 378\n",
      " 379 380 381 382 383 384 385 386 387 388 389 390 391 392 393 394 395 396\n",
      " 397 398 399 400 401 402 403 404 405 406 407 408 409 410 411 412 413 414\n",
      " 415 416 417 418 419 420 421 422 423 424 425 426 427 428 429 430 431 432\n",
      " 433 434 435 436 437 438 439 440 441 442 443 444 445 446 447 448 449 450\n",
      " 451 452 453 454 455 456 457 458 459 460 461 462 463 464 465 466 467 468\n",
      " 469 470 471 472 473 474 475 476 477 478 479 480 481 482 483 484 485 486\n",
      " 487 488 489 490 491 492 493 494 495 496 497 498 499 500 501 502 503 504\n",
      " 505 506 507 508 509 510 511 512 513 514 515 516 517 518 519 520 521 522\n",
      " 523 524 525 526 527 528 529 530 531 532 533 534 535 536 537 538 539 540\n",
      " 541 542 543 544 545 546 547 548 549 550 551 552 553 554 555 556 557 558\n",
      " 559 560 561 562 563 564 565 566 567 568 569 570 571 572 573 574 575 576\n",
      " 577 578 579 580 581 582 583 584 585 586 587 588 589 590 591 592 593 594\n",
      " 595 596 597 598 599 600 601 602 603 604 605 606 607 608 609 610]\n"
     ]
    }
   ],
   "source": [
    "unique_userId = data['userId'].unique()\n",
    "print(\"Unique userId\", unique_userId)"
   ]
  },
  {
   "cell_type": "code",
   "execution_count": 7,
   "id": "3b2f639e",
   "metadata": {},
   "outputs": [
    {
     "name": "stdout",
     "output_type": "stream",
     "text": [
      "The movie with the maximum user rating is: 47.0 with 5.0 rating.\n"
     ]
    }
   ],
   "source": [
    "max_rated_movie = data.loc[data['rating'].idxmax()]\n",
    "print(f\"The movie with the maximum user rating is: {max_rated_movie['movieId']} with {max_rated_movie['rating']} rating.\")"
   ]
  },
  {
   "cell_type": "code",
   "execution_count": 8,
   "id": "0acd18ad",
   "metadata": {},
   "outputs": [
    {
     "name": "stdout",
     "output_type": "stream",
     "text": [
      "The movie with the maximum number of ratings is: 'Toy Story (1995)' with 1 ratings.\n"
     ]
    }
   ],
   "source": [
    "import pandas as pd\n",
    "\n",
    "\n",
    "movies_data = {\n",
    "    'movieId': [1, 2, 3, 4, 5],\n",
    "    'title': [\n",
    "        'Toy Story (1995)', \n",
    "        'Jumanji (1995)', \n",
    "        'Grumpier Old Men (1995)', \n",
    "        'Waiting to Exhale (1995)', \n",
    "        'Father of the Bride Part II (1995)'\n",
    "    ],\n",
    "    'genres': [\n",
    "        'Adventure|Animation|Children|Comedy|Fantasy', \n",
    "        'Adventure|Children|Fantasy', \n",
    "        'Comedy|Romance', \n",
    "        'Comedy|Drama|Romance', \n",
    "        'Comedy'\n",
    "    ]\n",
    "}\n",
    "\n",
    "ratings_data = {\n",
    "    'userId': [1, 1, 1, 1, 1],\n",
    "    'movieId': [1, 3, 6, 47, 50],\n",
    "    'rating': [4.0, 4.0, 4.0, 5.0, 5.0],\n",
    "    'timestamp': [964982703, 964981247, 964982224, 964983815, 964982931]\n",
    "}\n",
    "\n",
    "# Create DataFrames\n",
    "movies_df = pd.DataFrame(movies_data)\n",
    "ratings_df = pd.DataFrame(ratings_data)\n",
    "\n",
    "\n",
    "ratings_count = ratings_df['movieId'].value_counts().reset_index()\n",
    "ratings_count.columns = ['movieId', 'rating_count']\n",
    "\n",
    "\n",
    "merged_df = pd.merge(ratings_count, movies_df, on='movieId')\n",
    "\n",
    "# Find the movie with the maximum number of ratings\n",
    "max_rated_movie = merged_df.loc[merged_df['rating_count'].idxmax()]\n",
    "\n",
    "\n",
    "print(f\"The movie with the maximum number of ratings is: '{max_rated_movie['title']}' with {max_rated_movie['rating_count']} ratings.\")\n"
   ]
  },
  {
   "cell_type": "code",
   "execution_count": 16,
   "id": "a6521cc7",
   "metadata": {},
   "outputs": [],
   "source": [
    "import pandas as pd\n",
    "\n",
    "grouped_ratings = ratings_df.groupby('movieId').agg(\n",
    "    count=('rating', 'count'),\n",
    "    mean_rating=('rating', 'mean')\n",
    ").reset_index()\n"
   ]
  },
  {
   "cell_type": "code",
   "execution_count": 17,
   "id": "0a21be26",
   "metadata": {},
   "outputs": [],
   "source": [
    "\n",
    "merged_df = pd.merge(movies_df, grouped_ratings, on='movieId', how='inner')\n"
   ]
  },
  {
   "cell_type": "code",
   "execution_count": 18,
   "id": "5ac9d01f",
   "metadata": {},
   "outputs": [],
   "source": [
    "filtered_movies = merged_df[merged_df['count'] > 50]\n"
   ]
  },
  {
   "cell_type": "code",
   "execution_count": 19,
   "id": "8809d4b2",
   "metadata": {},
   "outputs": [
    {
     "name": "stdout",
     "output_type": "stream",
     "text": [
      "The most popular movie based on average user ratings is 'Toy Story (1995)' with an average rating of 4.0.\n"
     ]
    }
   ],
   "source": [
    "import pandas as pd\n",
    "\n",
    "\n",
    "movies = pd.DataFrame({\n",
    "    'movieId': [1, 2, 3, 4, 5],\n",
    "    'title': ['Toy Story (1995)', 'Jumanji (1995)', 'Grumpier Old Men (1995)', 'Waiting to Exhale (1995)', 'Father of the Bride Part II (1995)'],\n",
    "    'genres': ['Adventure|Animation|Children|Comedy|Fantasy', 'Adventure|Children|Fantasy', 'Comedy|Romance', 'Comedy|Drama|Romance', 'Comedy']\n",
    "})\n",
    "\n",
    "ratings = pd.DataFrame({\n",
    "    'userId': [1, 1, 1, 1, 1],\n",
    "    'movieId': [1, 3, 6, 47, 50],\n",
    "    'rating': [4.0, 4.0, 4.0, 5.0, 5.0],\n",
    "    'timestamp': [964982703, 964981247, 964982224, 964983815, 964982931]\n",
    "})\n",
    "\n",
    "\n",
    "grouped_ratings = ratings.groupby('movieId').agg(\n",
    "    mean_rating=('rating', 'mean')\n",
    ").reset_index()\n",
    "\n",
    "\n",
    "popular_movies = pd.merge(grouped_ratings, movies, on='movieId')\n",
    "\n",
    "\n",
    "if not popular_movies.empty:\n",
    "    most_popular_movie = popular_movies.loc[popular_movies['mean_rating'].idxmax()]\n",
    "    print(f\"The most popular movie based on average user ratings is '{most_popular_movie['title']}' with an average rating of {most_popular_movie['mean_rating']}.\")\n",
    "else:\n",
    "    print(\"No movies found.\")\n"
   ]
  },
  {
   "cell_type": "code",
   "execution_count": 20,
   "id": "29d830ee",
   "metadata": {},
   "outputs": [
    {
     "name": "stdout",
     "output_type": "stream",
     "text": [
      "The average user rating for 'Terminator 2: Judgment Day (1991)' is 4.50.\n"
     ]
    }
   ],
   "source": [
    "import pandas as pd\n",
    "\n",
    "\n",
    "movies = pd.DataFrame({\n",
    "    'movieId': [1, 2, 3, 4, 5, 6],\n",
    "    'title': ['Toy Story (1995)', 'Jumanji (1995)', 'Grumpier Old Men (1995)', 'Waiting to Exhale (1995)', 'Father of the Bride Part II (1995)', 'Terminator 2: Judgment Day (1991)'],\n",
    "    'genres': ['Adventure|Animation|Children|Comedy|Fantasy', 'Adventure|Children|Fantasy', 'Comedy|Romance', 'Comedy|Drama|Romance', 'Comedy', 'Action|Sci-Fi']\n",
    "})\n",
    "\n",
    "ratings = pd.DataFrame({\n",
    "    'userId': [1, 2, 1, 3, 4, 5, 1],\n",
    "    'movieId': [1, 2, 6, 6, 6, 6, 1],\n",
    "    'rating': [4.0, 5.0, 4.5, 5.0, 4.0, 4.5, 3.0],\n",
    "    'timestamp': [964982703, 964982703, 964982703, 964982703, 964982703, 964982703, 964982703]\n",
    "})\n",
    "\n",
    "#  Filter for the specific movie\n",
    "movie_name = \"Terminator 2: Judgment Day (1991)\"\n",
    "movie_id = movies[movies['title'] == movie_name]['movieId'].values[0]\n",
    "\n",
    "#  Calculate the average rating for the movie\n",
    "average_rating = ratings[ratings['movieId'] == movie_id]['rating'].mean()\n",
    "\n",
    "\n",
    "if pd.notna(average_rating):\n",
    "    print(f\"The average user rating for '{movie_name}' is {average_rating:.2f}.\")\n",
    "else:\n",
    "    print(f\"No ratings found for '{movie_name}'.\")\n"
   ]
  },
  {
   "cell_type": "code",
   "execution_count": 21,
   "id": "1ba03c52",
   "metadata": {},
   "outputs": [
    {
     "name": "stdout",
     "output_type": "stream",
     "text": [
      "The most popular movie based on average user ratings is 'Wolf of Wall Street, The (2013)' with an average rating of 4.75.\n"
     ]
    }
   ],
   "source": [
    "import pandas as pd\n",
    "\n",
    "movies = pd.DataFrame({\n",
    "    'movieId': [1, 2, 3, 4, 5, 6, 7, 8],\n",
    "    'title': [\n",
    "        'Godfather, The (1972)', \n",
    "        'Shawshank Redemption, The (1994)', \n",
    "        'Jumanji (1995)', \n",
    "        'Wolf of Wall Street, The (2013)',\n",
    "        'Toy Story (1995)', \n",
    "        'Grumpier Old Men (1995)', \n",
    "        'Waiting to Exhale (1995)', \n",
    "        'Father of the Bride Part II (1995)'\n",
    "    ],\n",
    "    'genres': [\n",
    "        'Crime|Drama', \n",
    "        'Drama', \n",
    "        'Adventure|Children|Fantasy', \n",
    "        'Biography|Crime|Drama', \n",
    "        'Animation|Children|Comedy|Fantasy', \n",
    "        'Comedy|Romance', \n",
    "        'Comedy|Drama|Romance', \n",
    "        'Comedy'\n",
    "    ]\n",
    "})\n",
    "\n",
    "ratings = pd.DataFrame({\n",
    "    'userId': [1, 1, 1, 2, 2, 3, 3, 4, 4, 5, 5],\n",
    "    'movieId': [1, 2, 3, 4, 1, 2, 3, 2, 5, 1, 4],\n",
    "    'rating': [5.0, 4.5, 4.0, 5.0, 4.0, 4.5, 5.0, 3.5, 4.0, 5.0, 4.5],\n",
    "    'timestamp': [964982703, 964982703, 964982703, 964982703, 964982703, 964982703, 964982703, 964982703, 964982703, 964982703, 964982703]\n",
    "})\n",
    "\n",
    "\n",
    "movies_to_check = [\n",
    "    'Godfather, The (1972)', \n",
    "    'Shawshank Redemption, The (1994)', \n",
    "    'Jumanji (1995)', \n",
    "    'Wolf of Wall Street, The (2013)'\n",
    "]\n",
    "\n",
    "\n",
    "average_ratings = {}\n",
    "\n",
    "for movie in movies_to_check:\n",
    "    movie_id = movies[movies['title'] == movie]['movieId'].values[0]\n",
    "    average_rating = ratings[ratings['movieId'] == movie_id]['rating'].mean()\n",
    "    average_ratings[movie] = average_rating\n",
    "\n",
    "# Find the most popular movie based on average rating\n",
    "most_popular_movie = max(average_ratings, key=average_ratings.get)\n",
    "highest_rating = average_ratings[most_popular_movie]\n",
    "\n",
    "print(f\"The most popular movie based on average user ratings is '{most_popular_movie}' with an average rating of {highest_rating:.2f}.\")\n"
   ]
  },
  {
   "cell_type": "code",
   "execution_count": 22,
   "id": "5eebf860",
   "metadata": {},
   "outputs": [
    {
     "ename": "KeyError",
     "evalue": "'genre'",
     "output_type": "error",
     "traceback": [
      "\u001b[1;31m---------------------------------------------------------------------------\u001b[0m",
      "\u001b[1;31mKeyError\u001b[0m                                  Traceback (most recent call last)",
      "Cell \u001b[1;32mIn[22], line 4\u001b[0m\n\u001b[0;32m      1\u001b[0m \u001b[38;5;28;01mimport\u001b[39;00m \u001b[38;5;21;01mpandas\u001b[39;00m \u001b[38;5;28;01mas\u001b[39;00m \u001b[38;5;21;01mpd\u001b[39;00m\n\u001b[1;32m----> 4\u001b[0m sci_fi_ratings \u001b[38;5;241m=\u001b[39m ratings_data[ratings_data[\u001b[38;5;124m'\u001b[39m\u001b[38;5;124mgenre\u001b[39m\u001b[38;5;124m'\u001b[39m]\u001b[38;5;241m.\u001b[39mstr\u001b[38;5;241m.\u001b[39mcontains(\u001b[38;5;124m'\u001b[39m\u001b[38;5;124mSci-Fi\u001b[39m\u001b[38;5;124m'\u001b[39m)]\n\u001b[0;32m      6\u001b[0m \u001b[38;5;66;03m# Calculate average rating for each Sci-Fi movie\u001b[39;00m\n\u001b[0;32m      7\u001b[0m avg_ratings \u001b[38;5;241m=\u001b[39m sci_fi_ratings\u001b[38;5;241m.\u001b[39mgroupby(\u001b[38;5;124m'\u001b[39m\u001b[38;5;124mmovieId\u001b[39m\u001b[38;5;124m'\u001b[39m)[\u001b[38;5;124m'\u001b[39m\u001b[38;5;124mrating\u001b[39m\u001b[38;5;124m'\u001b[39m]\u001b[38;5;241m.\u001b[39mmean()\n",
      "\u001b[1;31mKeyError\u001b[0m: 'genre'"
     ]
    }
   ],
   "source": [
    "import pandas as pd\n",
    "\n",
    "\n",
    "sci_fi_ratings = ratings_data[ratings_data['genre'].str.contains('Sci-Fi')]\n",
    "\n",
    "# Calculate average rating for each Sci-Fi movie\n",
    "avg_ratings = sci_fi_ratings.groupby('movieId')['rating'].mean()\n",
    "\n",
    "# Sort by average rating in descending order\n",
    "sorted_ratings = avg_ratings.sort_values(ascending=False)\n",
    "\n",
    "# Get the third most popular Sci-Fi movie\n",
    "third_most_popular_movie_id = sorted_ratings.index[2]\n",
    "\n",
    "# Look up the movie title based on its ID\n",
    "# Assuming you have a DataFrame called 'movies_df' with movie details\n",
    "third_most_popular_movie_title = movies_df.loc[movies_df['movieId'] == third_most_popular_movie_id, 'title'].values[0]\n",
    "\n",
    "print(f\"The third most popular Sci-Fi movie is: {third_most_popular_movie_title}\")\n"
   ]
  },
  {
   "cell_type": "code",
   "execution_count": 23,
   "id": "3c3a0455",
   "metadata": {},
   "outputs": [
    {
     "name": "stdout",
     "output_type": "stream",
     "text": [
      "   movieId  imdbId   tmdbId\n",
      "0        1  114709    862.0\n",
      "1        2  113497   8844.0\n",
      "2        3  113228  15602.0\n",
      "3        4  114885  31357.0\n",
      "4        5  113041  11862.0\n"
     ]
    }
   ],
   "source": [
    "data = pd.read_csv(\"links.csv\")\n",
    "print(data.head())"
   ]
  },
  {
   "cell_type": "code",
   "execution_count": 24,
   "id": "65fbdaa3",
   "metadata": {},
   "outputs": [
    {
     "name": "stdout",
     "output_type": "stream",
     "text": [
      "The movie with the highest IMDb rating has movieId: 5\n"
     ]
    }
   ],
   "source": [
    "import pandas as pd\n",
    "\n",
    "\n",
    "sorted_movies = movies_df.sort_values(by='movieId', ascending=False)\n",
    "\n",
    "# Get the movie with the highest IMDb rating\n",
    "highest_rated_movie_id = sorted_movies.iloc[0]['movieId']\n",
    "\n",
    "print(f\"The movie with the highest IMDb rating has movieId: {highest_rated_movie_id}\")\n"
   ]
  },
  {
   "cell_type": "code",
   "execution_count": 25,
   "id": "6bd8230c",
   "metadata": {
    "scrolled": true
   },
   "outputs": [
    {
     "ename": "KeyError",
     "evalue": "'imdbId'",
     "output_type": "error",
     "traceback": [
      "\u001b[1;31m---------------------------------------------------------------------------\u001b[0m",
      "\u001b[1;31mKeyError\u001b[0m                                  Traceback (most recent call last)",
      "\u001b[1;32m~\\AppData\\Local\\Temp\\ipykernel_12004\\2617473604.py\u001b[0m in \u001b[0;36m?\u001b[1;34m()\u001b[0m\n\u001b[0;32m      3\u001b[0m \u001b[1;33m\u001b[0m\u001b[0m\n\u001b[0;32m      4\u001b[0m \u001b[0msci_fi_movies\u001b[0m \u001b[1;33m=\u001b[0m \u001b[0mmovies_df\u001b[0m\u001b[1;33m[\u001b[0m\u001b[0mmovies_df\u001b[0m\u001b[1;33m[\u001b[0m\u001b[1;34m'genres'\u001b[0m\u001b[1;33m]\u001b[0m\u001b[1;33m.\u001b[0m\u001b[0mstr\u001b[0m\u001b[1;33m.\u001b[0m\u001b[0mcontains\u001b[0m\u001b[1;33m(\u001b[0m\u001b[1;34m'Sci-Fi'\u001b[0m\u001b[1;33m)\u001b[0m\u001b[1;33m]\u001b[0m\u001b[1;33m\u001b[0m\u001b[1;33m\u001b[0m\u001b[0m\n\u001b[0;32m      5\u001b[0m \u001b[1;33m\u001b[0m\u001b[0m\n\u001b[0;32m      6\u001b[0m \u001b[1;31m# Sort by IMDb rating in descending order\u001b[0m\u001b[1;33m\u001b[0m\u001b[1;33m\u001b[0m\u001b[0m\n\u001b[1;32m----> 7\u001b[1;33m \u001b[0msorted_movies\u001b[0m \u001b[1;33m=\u001b[0m \u001b[0msci_fi_movies\u001b[0m\u001b[1;33m.\u001b[0m\u001b[0msort_values\u001b[0m\u001b[1;33m(\u001b[0m\u001b[0mby\u001b[0m\u001b[1;33m=\u001b[0m\u001b[1;34m'imdbId'\u001b[0m\u001b[1;33m,\u001b[0m \u001b[0mascending\u001b[0m\u001b[1;33m=\u001b[0m\u001b[1;32mFalse\u001b[0m\u001b[1;33m)\u001b[0m\u001b[1;33m\u001b[0m\u001b[1;33m\u001b[0m\u001b[0m\n\u001b[0m\u001b[0;32m      8\u001b[0m \u001b[1;33m\u001b[0m\u001b[0m\n\u001b[0;32m      9\u001b[0m \u001b[1;31m# Get the movie with the highest IMDb rating\u001b[0m\u001b[1;33m\u001b[0m\u001b[1;33m\u001b[0m\u001b[0m\n\u001b[0;32m     10\u001b[0m \u001b[0mhighest_rated_movie_id\u001b[0m \u001b[1;33m=\u001b[0m \u001b[0msorted_movies\u001b[0m\u001b[1;33m.\u001b[0m\u001b[0miloc\u001b[0m\u001b[1;33m[\u001b[0m\u001b[1;36m0\u001b[0m\u001b[1;33m]\u001b[0m\u001b[1;33m[\u001b[0m\u001b[1;34m'movieId'\u001b[0m\u001b[1;33m]\u001b[0m\u001b[1;33m\u001b[0m\u001b[1;33m\u001b[0m\u001b[0m\n",
      "\u001b[1;32mD:\\Heavy\\Lib\\site-packages\\pandas\\core\\frame.py\u001b[0m in \u001b[0;36m?\u001b[1;34m(self, by, axis, ascending, inplace, kind, na_position, ignore_index, key)\u001b[0m\n\u001b[0;32m   6754\u001b[0m         \u001b[1;32melif\u001b[0m \u001b[0mlen\u001b[0m\u001b[1;33m(\u001b[0m\u001b[0mby\u001b[0m\u001b[1;33m)\u001b[0m\u001b[1;33m:\u001b[0m\u001b[1;33m\u001b[0m\u001b[1;33m\u001b[0m\u001b[0m\n\u001b[0;32m   6755\u001b[0m             \u001b[1;31m# len(by) == 1\u001b[0m\u001b[1;33m\u001b[0m\u001b[1;33m\u001b[0m\u001b[0m\n\u001b[0;32m   6756\u001b[0m \u001b[1;33m\u001b[0m\u001b[0m\n\u001b[0;32m   6757\u001b[0m             \u001b[0mby\u001b[0m \u001b[1;33m=\u001b[0m \u001b[0mby\u001b[0m\u001b[1;33m[\u001b[0m\u001b[1;36m0\u001b[0m\u001b[1;33m]\u001b[0m\u001b[1;33m\u001b[0m\u001b[1;33m\u001b[0m\u001b[0m\n\u001b[1;32m-> 6758\u001b[1;33m             \u001b[0mk\u001b[0m \u001b[1;33m=\u001b[0m \u001b[0mself\u001b[0m\u001b[1;33m.\u001b[0m\u001b[0m_get_label_or_level_values\u001b[0m\u001b[1;33m(\u001b[0m\u001b[0mby\u001b[0m\u001b[1;33m,\u001b[0m \u001b[0maxis\u001b[0m\u001b[1;33m=\u001b[0m\u001b[0maxis\u001b[0m\u001b[1;33m)\u001b[0m\u001b[1;33m\u001b[0m\u001b[1;33m\u001b[0m\u001b[0m\n\u001b[0m\u001b[0;32m   6759\u001b[0m \u001b[1;33m\u001b[0m\u001b[0m\n\u001b[0;32m   6760\u001b[0m             \u001b[1;31m# need to rewrap column in Series to apply key function\u001b[0m\u001b[1;33m\u001b[0m\u001b[1;33m\u001b[0m\u001b[0m\n\u001b[0;32m   6761\u001b[0m             \u001b[1;32mif\u001b[0m \u001b[0mkey\u001b[0m \u001b[1;32mis\u001b[0m \u001b[1;32mnot\u001b[0m \u001b[1;32mNone\u001b[0m\u001b[1;33m:\u001b[0m\u001b[1;33m\u001b[0m\u001b[1;33m\u001b[0m\u001b[0m\n",
      "\u001b[1;32mD:\\Heavy\\Lib\\site-packages\\pandas\\core\\generic.py\u001b[0m in \u001b[0;36m?\u001b[1;34m(self, key, axis)\u001b[0m\n\u001b[0;32m   1774\u001b[0m             \u001b[0mvalues\u001b[0m \u001b[1;33m=\u001b[0m \u001b[0mself\u001b[0m\u001b[1;33m.\u001b[0m\u001b[0mxs\u001b[0m\u001b[1;33m(\u001b[0m\u001b[0mkey\u001b[0m\u001b[1;33m,\u001b[0m \u001b[0maxis\u001b[0m\u001b[1;33m=\u001b[0m\u001b[0mother_axes\u001b[0m\u001b[1;33m[\u001b[0m\u001b[1;36m0\u001b[0m\u001b[1;33m]\u001b[0m\u001b[1;33m)\u001b[0m\u001b[1;33m.\u001b[0m\u001b[0m_values\u001b[0m\u001b[1;33m\u001b[0m\u001b[1;33m\u001b[0m\u001b[0m\n\u001b[0;32m   1775\u001b[0m         \u001b[1;32melif\u001b[0m \u001b[0mself\u001b[0m\u001b[1;33m.\u001b[0m\u001b[0m_is_level_reference\u001b[0m\u001b[1;33m(\u001b[0m\u001b[0mkey\u001b[0m\u001b[1;33m,\u001b[0m \u001b[0maxis\u001b[0m\u001b[1;33m=\u001b[0m\u001b[0maxis\u001b[0m\u001b[1;33m)\u001b[0m\u001b[1;33m:\u001b[0m\u001b[1;33m\u001b[0m\u001b[1;33m\u001b[0m\u001b[0m\n\u001b[0;32m   1776\u001b[0m             \u001b[0mvalues\u001b[0m \u001b[1;33m=\u001b[0m \u001b[0mself\u001b[0m\u001b[1;33m.\u001b[0m\u001b[0maxes\u001b[0m\u001b[1;33m[\u001b[0m\u001b[0maxis\u001b[0m\u001b[1;33m]\u001b[0m\u001b[1;33m.\u001b[0m\u001b[0mget_level_values\u001b[0m\u001b[1;33m(\u001b[0m\u001b[0mkey\u001b[0m\u001b[1;33m)\u001b[0m\u001b[1;33m.\u001b[0m\u001b[0m_values\u001b[0m\u001b[1;33m\u001b[0m\u001b[1;33m\u001b[0m\u001b[0m\n\u001b[0;32m   1777\u001b[0m         \u001b[1;32melse\u001b[0m\u001b[1;33m:\u001b[0m\u001b[1;33m\u001b[0m\u001b[1;33m\u001b[0m\u001b[0m\n\u001b[1;32m-> 1778\u001b[1;33m             \u001b[1;32mraise\u001b[0m \u001b[0mKeyError\u001b[0m\u001b[1;33m(\u001b[0m\u001b[0mkey\u001b[0m\u001b[1;33m)\u001b[0m\u001b[1;33m\u001b[0m\u001b[1;33m\u001b[0m\u001b[0m\n\u001b[0m\u001b[0;32m   1779\u001b[0m \u001b[1;33m\u001b[0m\u001b[0m\n\u001b[0;32m   1780\u001b[0m         \u001b[1;31m# Check for duplicates\u001b[0m\u001b[1;33m\u001b[0m\u001b[1;33m\u001b[0m\u001b[0m\n\u001b[0;32m   1781\u001b[0m         \u001b[1;32mif\u001b[0m \u001b[0mvalues\u001b[0m\u001b[1;33m.\u001b[0m\u001b[0mndim\u001b[0m \u001b[1;33m>\u001b[0m \u001b[1;36m1\u001b[0m\u001b[1;33m:\u001b[0m\u001b[1;33m\u001b[0m\u001b[1;33m\u001b[0m\u001b[0m\n",
      "\u001b[1;31mKeyError\u001b[0m: 'imdbId'"
     ]
    }
   ],
   "source": [
    "import pandas as pd\n",
    "\n",
    "\n",
    "sci_fi_movies = movies_df[movies_df['genres'].str.contains('Sci-Fi')]\n",
    "\n",
    "# Sort by IMDb rating in descending order\n",
    "sorted_movies = sci_fi_movies.sort_values(by='imdbId', ascending=False)\n",
    "\n",
    "# Get the movie with the highest IMDb rating\n",
    "highest_rated_movie_id = sorted_movies.iloc[0]['movieId']\n",
    "\n",
    "print(f\"The Sci-Fi movie with the highest IMDb rating has movieId: {highest_rated_movie_id}\")\n"
   ]
  },
  {
   "cell_type": "code",
   "execution_count": 26,
   "id": "7408446a",
   "metadata": {},
   "outputs": [
    {
     "ename": "IndexError",
     "evalue": "single positional indexer is out-of-bounds",
     "output_type": "error",
     "traceback": [
      "\u001b[1;31m---------------------------------------------------------------------------\u001b[0m",
      "\u001b[1;31mIndexError\u001b[0m                                Traceback (most recent call last)",
      "Cell \u001b[1;32mIn[26], line 9\u001b[0m\n\u001b[0;32m      6\u001b[0m sorted_movies \u001b[38;5;241m=\u001b[39m sci_fi_movies\u001b[38;5;241m.\u001b[39msort_values(by\u001b[38;5;241m=\u001b[39m\u001b[38;5;124m'\u001b[39m\u001b[38;5;124mmovieId\u001b[39m\u001b[38;5;124m'\u001b[39m, ascending\u001b[38;5;241m=\u001b[39m\u001b[38;5;28;01mFalse\u001b[39;00m)\n\u001b[0;32m      8\u001b[0m \u001b[38;5;66;03m# Get the movie with the highest IMDb rating\u001b[39;00m\n\u001b[1;32m----> 9\u001b[0m highest_rated_movie_id \u001b[38;5;241m=\u001b[39m sorted_movies\u001b[38;5;241m.\u001b[39miloc[\u001b[38;5;241m0\u001b[39m][\u001b[38;5;124m'\u001b[39m\u001b[38;5;124mmovieId\u001b[39m\u001b[38;5;124m'\u001b[39m]\n\u001b[0;32m     11\u001b[0m \u001b[38;5;28mprint\u001b[39m(\u001b[38;5;124mf\u001b[39m\u001b[38;5;124m\"\u001b[39m\u001b[38;5;124mThe Sci-Fi movie with the highest IMDb rating has movieId: \u001b[39m\u001b[38;5;132;01m{\u001b[39;00mhighest_rated_movie_id\u001b[38;5;132;01m}\u001b[39;00m\u001b[38;5;124m\"\u001b[39m)\n",
      "File \u001b[1;32mD:\\Heavy\\Lib\\site-packages\\pandas\\core\\indexing.py:1103\u001b[0m, in \u001b[0;36m_LocationIndexer.__getitem__\u001b[1;34m(self, key)\u001b[0m\n\u001b[0;32m   1100\u001b[0m axis \u001b[38;5;241m=\u001b[39m \u001b[38;5;28mself\u001b[39m\u001b[38;5;241m.\u001b[39maxis \u001b[38;5;129;01mor\u001b[39;00m \u001b[38;5;241m0\u001b[39m\n\u001b[0;32m   1102\u001b[0m maybe_callable \u001b[38;5;241m=\u001b[39m com\u001b[38;5;241m.\u001b[39mapply_if_callable(key, \u001b[38;5;28mself\u001b[39m\u001b[38;5;241m.\u001b[39mobj)\n\u001b[1;32m-> 1103\u001b[0m \u001b[38;5;28;01mreturn\u001b[39;00m \u001b[38;5;28mself\u001b[39m\u001b[38;5;241m.\u001b[39m_getitem_axis(maybe_callable, axis\u001b[38;5;241m=\u001b[39maxis)\n",
      "File \u001b[1;32mD:\\Heavy\\Lib\\site-packages\\pandas\\core\\indexing.py:1656\u001b[0m, in \u001b[0;36m_iLocIndexer._getitem_axis\u001b[1;34m(self, key, axis)\u001b[0m\n\u001b[0;32m   1653\u001b[0m     \u001b[38;5;28;01mraise\u001b[39;00m \u001b[38;5;167;01mTypeError\u001b[39;00m(\u001b[38;5;124m\"\u001b[39m\u001b[38;5;124mCannot index by location index with a non-integer key\u001b[39m\u001b[38;5;124m\"\u001b[39m)\n\u001b[0;32m   1655\u001b[0m \u001b[38;5;66;03m# validate the location\u001b[39;00m\n\u001b[1;32m-> 1656\u001b[0m \u001b[38;5;28mself\u001b[39m\u001b[38;5;241m.\u001b[39m_validate_integer(key, axis)\n\u001b[0;32m   1658\u001b[0m \u001b[38;5;28;01mreturn\u001b[39;00m \u001b[38;5;28mself\u001b[39m\u001b[38;5;241m.\u001b[39mobj\u001b[38;5;241m.\u001b[39m_ixs(key, axis\u001b[38;5;241m=\u001b[39maxis)\n",
      "File \u001b[1;32mD:\\Heavy\\Lib\\site-packages\\pandas\\core\\indexing.py:1589\u001b[0m, in \u001b[0;36m_iLocIndexer._validate_integer\u001b[1;34m(self, key, axis)\u001b[0m\n\u001b[0;32m   1587\u001b[0m len_axis \u001b[38;5;241m=\u001b[39m \u001b[38;5;28mlen\u001b[39m(\u001b[38;5;28mself\u001b[39m\u001b[38;5;241m.\u001b[39mobj\u001b[38;5;241m.\u001b[39m_get_axis(axis))\n\u001b[0;32m   1588\u001b[0m \u001b[38;5;28;01mif\u001b[39;00m key \u001b[38;5;241m>\u001b[39m\u001b[38;5;241m=\u001b[39m len_axis \u001b[38;5;129;01mor\u001b[39;00m key \u001b[38;5;241m<\u001b[39m \u001b[38;5;241m-\u001b[39mlen_axis:\n\u001b[1;32m-> 1589\u001b[0m     \u001b[38;5;28;01mraise\u001b[39;00m \u001b[38;5;167;01mIndexError\u001b[39;00m(\u001b[38;5;124m\"\u001b[39m\u001b[38;5;124msingle positional indexer is out-of-bounds\u001b[39m\u001b[38;5;124m\"\u001b[39m)\n",
      "\u001b[1;31mIndexError\u001b[0m: single positional indexer is out-of-bounds"
     ]
    }
   ],
   "source": [
    "import pandas as pd\n",
    "\n",
    "sci_fi_movies = movies_df[movies_df['genres'].str.contains('Sci-Fi')]\n",
    "\n",
    "# Sort by IMDb rating in descending order\n",
    "sorted_movies = sci_fi_movies.sort_values(by='movieId', ascending=False)\n",
    "\n",
    "# Get the movie with the highest IMDb rating\n",
    "highest_rated_movie_id = sorted_movies.iloc[0]['movieId']\n",
    "\n",
    "print(f\"The Sci-Fi movie with the highest IMDb rating has movieId: {highest_rated_movie_id}\")\n"
   ]
  },
  {
   "cell_type": "code",
   "execution_count": null,
   "id": "e2a3225f",
   "metadata": {},
   "outputs": [],
   "source": [
    "import pandas as pd\n",
    "\n",
    "\n",
    "sci_fi_movies = movies_df[movies_df['genres'].str.contains('Sci-Fi')]\n",
    "\n",
    "# Sort by IMDb rating in descending order\n",
    "sorted_movies = sci_fi_movies.sort_values(by='imdbId', ascending=False)\n",
    "\n",
    "# Get the movie with the highest IMDb rating\n",
    "highest_rated_movie_id = sorted_movies.iloc[0]['movieId']\n",
    "\n",
    "print(f\"The Sci-Fi movie with the highest IMDb rating has movieId: {highest_rated_movie_id}\")\n"
   ]
  },
  {
   "cell_type": "code",
   "execution_count": null,
   "id": "bfaf5165",
   "metadata": {},
   "outputs": [],
   "source": []
  }
 ],
 "metadata": {
  "kernelspec": {
   "display_name": "Python 3 (ipykernel)",
   "language": "python",
   "name": "python3"
  },
  "language_info": {
   "codemirror_mode": {
    "name": "ipython",
    "version": 3
   },
   "file_extension": ".py",
   "mimetype": "text/x-python",
   "name": "python",
   "nbconvert_exporter": "python",
   "pygments_lexer": "ipython3",
   "version": "3.11.5"
  }
 },
 "nbformat": 4,
 "nbformat_minor": 5
}
